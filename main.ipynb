{
 "cells": [
  {
   "cell_type": "markdown",
   "metadata": {},
   "source": [
    "# Accumulation investment simulation\n",
    "Excahnge rate is NOT included!!"
   ]
  },
  {
   "cell_type": "code",
   "execution_count": 35,
   "metadata": {},
   "outputs": [],
   "source": [
    "nisa_capacity = 18000000\n",
    "monthly_investment_until_fill_nisa = 18000000\n",
    "monthly_investment_after_fill_nisa = 0\n",
    "accumulation_year = 35\n",
    "trust_fee = 0.01  # percentage per year\n",
    "\n",
    "monthly_withdrawal_after_retirement = 100000\n",
    "year_after_retirement = 40\n",
    "\n",
    "# ticker_symbol = \"ACWI\"  # All Country World Index\n",
    "ticker_symbol = \"^GSPC\"  # S&P 500\n",
    "# ticker_symbol = \"^N225\"  # Nikkei 225\n",
    "# ticker_symbol = \"SCHD\"  # Schwab US Dividend Equity ETF\n",
    "# ticker_symbol = \"^RUT\"  # Russell 2000\n",
    "\n",
    "monte_carlo_simulation_time = 100000"
   ]
  },
  {
   "cell_type": "markdown",
   "metadata": {},
   "source": [
    "## Index history and score"
   ]
  },
  {
   "cell_type": "code",
   "execution_count": null,
   "metadata": {},
   "outputs": [
    {
     "name": "stderr",
     "output_type": "stream",
     "text": [
      "[*********************100%***********************]  1 of 1 completed\n",
      "\n",
      "1 Failed download:\n",
      "['^GSPC']: JSONDecodeError('Expecting value: line 1 column 1 (char 0)')\n"
     ]
    },
    {
     "data": {
      "text/html": [
       "<div>\n",
       "<style scoped>\n",
       "    .dataframe tbody tr th:only-of-type {\n",
       "        vertical-align: middle;\n",
       "    }\n",
       "\n",
       "    .dataframe tbody tr th {\n",
       "        vertical-align: top;\n",
       "    }\n",
       "\n",
       "    .dataframe thead tr th {\n",
       "        text-align: left;\n",
       "    }\n",
       "\n",
       "    .dataframe thead tr:last-of-type th {\n",
       "        text-align: right;\n",
       "    }\n",
       "</style>\n",
       "<table border=\"1\" class=\"dataframe\">\n",
       "  <thead>\n",
       "    <tr>\n",
       "      <th>Price</th>\n",
       "      <th>Adj Close</th>\n",
       "      <th>Close</th>\n",
       "      <th>High</th>\n",
       "      <th>Low</th>\n",
       "      <th>Open</th>\n",
       "      <th>Volume</th>\n",
       "    </tr>\n",
       "    <tr>\n",
       "      <th>Ticker</th>\n",
       "      <th>^GSPC</th>\n",
       "      <th>^GSPC</th>\n",
       "      <th>^GSPC</th>\n",
       "      <th>^GSPC</th>\n",
       "      <th>^GSPC</th>\n",
       "      <th>^GSPC</th>\n",
       "    </tr>\n",
       "    <tr>\n",
       "      <th>Date</th>\n",
       "      <th></th>\n",
       "      <th></th>\n",
       "      <th></th>\n",
       "      <th></th>\n",
       "      <th></th>\n",
       "      <th></th>\n",
       "    </tr>\n",
       "  </thead>\n",
       "  <tbody>\n",
       "  </tbody>\n",
       "</table>\n",
       "</div>"
      ],
      "text/plain": [
       "Empty DataFrame\n",
       "Columns: [(Adj Close, ^GSPC), (Close, ^GSPC), (High, ^GSPC), (Low, ^GSPC), (Open, ^GSPC), (Volume, ^GSPC)]\n",
       "Index: []"
      ]
     },
     "execution_count": 39,
     "metadata": {},
     "output_type": "execute_result"
    }
   ],
   "source": [
    "import pandas as pd\n",
    "import numpy as np\n",
    "import yfinance as yf\n",
    "import matplotlib.pyplot as plt\n",
    "\n",
    "index_data = yf.download(ticker_symbol, period=\"max\")\n",
    "index_data"
   ]
  },
  {
   "cell_type": "code",
   "execution_count": 37,
   "metadata": {},
   "outputs": [
    {
     "data": {
      "text/html": [
       "<div>\n",
       "<style scoped>\n",
       "    .dataframe tbody tr th:only-of-type {\n",
       "        vertical-align: middle;\n",
       "    }\n",
       "\n",
       "    .dataframe tbody tr th {\n",
       "        vertical-align: top;\n",
       "    }\n",
       "\n",
       "    .dataframe thead tr th {\n",
       "        text-align: left;\n",
       "    }\n",
       "\n",
       "    .dataframe thead tr:last-of-type th {\n",
       "        text-align: right;\n",
       "    }\n",
       "</style>\n",
       "<table border=\"1\" class=\"dataframe\">\n",
       "  <thead>\n",
       "    <tr>\n",
       "      <th>Price</th>\n",
       "      <th>Open</th>\n",
       "      <th>Close</th>\n",
       "      <th>Return</th>\n",
       "    </tr>\n",
       "    <tr>\n",
       "      <th>Ticker</th>\n",
       "      <th>^GSPC</th>\n",
       "      <th>^GSPC</th>\n",
       "      <th></th>\n",
       "    </tr>\n",
       "    <tr>\n",
       "      <th>Date</th>\n",
       "      <th></th>\n",
       "      <th></th>\n",
       "      <th></th>\n",
       "    </tr>\n",
       "  </thead>\n",
       "  <tbody>\n",
       "  </tbody>\n",
       "</table>\n",
       "</div>"
      ],
      "text/plain": [
       "Empty DataFrame\n",
       "Columns: [(Open, ^GSPC), (Close, ^GSPC), (Return, )]\n",
       "Index: []"
      ]
     },
     "execution_count": 37,
     "metadata": {},
     "output_type": "execute_result"
    }
   ],
   "source": [
    "# Resample to monthly data and get Open and Close\n",
    "monthly_index = index_data.resample('ME').agg({('Open', ticker_symbol): 'first', ('Close', ticker_symbol): 'last'})\n",
    "# Calculate the monthly return\n",
    "monthly_index['Return'] = monthly_index['Close'].pct_change()\n",
    "# Drop the first and last row, which is the current month\n",
    "monthly_index = monthly_index.iloc[1:-1]\n",
    "# monthly_index.to_csv('monthly_index.csv')\n",
    "monthly_index"
   ]
  },
  {
   "cell_type": "code",
   "execution_count": 38,
   "metadata": {},
   "outputs": [
    {
     "ename": "ValueError",
     "evalue": "zero-size array to reduction operation fmin which has no identity",
     "output_type": "error",
     "traceback": [
      "\u001b[1;31m---------------------------------------------------------------------------\u001b[0m",
      "\u001b[1;31mValueError\u001b[0m                                Traceback (most recent call last)",
      "Cell \u001b[1;32mIn[38], line 2\u001b[0m\n\u001b[0;32m      1\u001b[0m \u001b[38;5;66;03m# Visualize the monthly index chart\u001b[39;00m\n\u001b[1;32m----> 2\u001b[0m \u001b[43mmonthly_index\u001b[49m\u001b[43m[\u001b[49m\u001b[38;5;124;43m'\u001b[39;49m\u001b[38;5;124;43mClose\u001b[39;49m\u001b[38;5;124;43m'\u001b[39;49m\u001b[43m]\u001b[49m\u001b[38;5;241;43m.\u001b[39;49m\u001b[43mplot\u001b[49m\u001b[43m(\u001b[49m\u001b[43m)\u001b[49m\n\u001b[0;32m      3\u001b[0m plt\u001b[38;5;241m.\u001b[39mshow()\n\u001b[0;32m      4\u001b[0m monthly_index[\u001b[38;5;124m'\u001b[39m\u001b[38;5;124mClose\u001b[39m\u001b[38;5;124m'\u001b[39m]\u001b[38;5;241m.\u001b[39mplot(logy\u001b[38;5;241m=\u001b[39m\u001b[38;5;28;01mTrue\u001b[39;00m)\n",
      "File \u001b[1;32mt:\\asset_simulation\\.venv\\Lib\\site-packages\\pandas\\plotting\\_core.py:1030\u001b[0m, in \u001b[0;36mPlotAccessor.__call__\u001b[1;34m(self, *args, **kwargs)\u001b[0m\n\u001b[0;32m   1027\u001b[0m             label_name \u001b[38;5;241m=\u001b[39m label_kw \u001b[38;5;129;01mor\u001b[39;00m data\u001b[38;5;241m.\u001b[39mcolumns\n\u001b[0;32m   1028\u001b[0m             data\u001b[38;5;241m.\u001b[39mcolumns \u001b[38;5;241m=\u001b[39m label_name\n\u001b[1;32m-> 1030\u001b[0m \u001b[38;5;28;01mreturn\u001b[39;00m \u001b[43mplot_backend\u001b[49m\u001b[38;5;241;43m.\u001b[39;49m\u001b[43mplot\u001b[49m\u001b[43m(\u001b[49m\u001b[43mdata\u001b[49m\u001b[43m,\u001b[49m\u001b[43m \u001b[49m\u001b[43mkind\u001b[49m\u001b[38;5;241;43m=\u001b[39;49m\u001b[43mkind\u001b[49m\u001b[43m,\u001b[49m\u001b[43m \u001b[49m\u001b[38;5;241;43m*\u001b[39;49m\u001b[38;5;241;43m*\u001b[39;49m\u001b[43mkwargs\u001b[49m\u001b[43m)\u001b[49m\n",
      "File \u001b[1;32mt:\\asset_simulation\\.venv\\Lib\\site-packages\\pandas\\plotting\\_matplotlib\\__init__.py:71\u001b[0m, in \u001b[0;36mplot\u001b[1;34m(data, kind, **kwargs)\u001b[0m\n\u001b[0;32m     69\u001b[0m         kwargs[\u001b[38;5;124m\"\u001b[39m\u001b[38;5;124max\u001b[39m\u001b[38;5;124m\"\u001b[39m] \u001b[38;5;241m=\u001b[39m \u001b[38;5;28mgetattr\u001b[39m(ax, \u001b[38;5;124m\"\u001b[39m\u001b[38;5;124mleft_ax\u001b[39m\u001b[38;5;124m\"\u001b[39m, ax)\n\u001b[0;32m     70\u001b[0m plot_obj \u001b[38;5;241m=\u001b[39m PLOT_CLASSES[kind](data, \u001b[38;5;241m*\u001b[39m\u001b[38;5;241m*\u001b[39mkwargs)\n\u001b[1;32m---> 71\u001b[0m \u001b[43mplot_obj\u001b[49m\u001b[38;5;241;43m.\u001b[39;49m\u001b[43mgenerate\u001b[49m\u001b[43m(\u001b[49m\u001b[43m)\u001b[49m\n\u001b[0;32m     72\u001b[0m plot_obj\u001b[38;5;241m.\u001b[39mdraw()\n\u001b[0;32m     73\u001b[0m \u001b[38;5;28;01mreturn\u001b[39;00m plot_obj\u001b[38;5;241m.\u001b[39mresult\n",
      "File \u001b[1;32mt:\\asset_simulation\\.venv\\Lib\\site-packages\\pandas\\plotting\\_matplotlib\\core.py:501\u001b[0m, in \u001b[0;36mMPLPlot.generate\u001b[1;34m(self)\u001b[0m\n\u001b[0;32m    499\u001b[0m \u001b[38;5;28mself\u001b[39m\u001b[38;5;241m.\u001b[39m_compute_plot_data()\n\u001b[0;32m    500\u001b[0m fig \u001b[38;5;241m=\u001b[39m \u001b[38;5;28mself\u001b[39m\u001b[38;5;241m.\u001b[39mfig\n\u001b[1;32m--> 501\u001b[0m \u001b[38;5;28;43mself\u001b[39;49m\u001b[38;5;241;43m.\u001b[39;49m\u001b[43m_make_plot\u001b[49m\u001b[43m(\u001b[49m\u001b[43mfig\u001b[49m\u001b[43m)\u001b[49m\n\u001b[0;32m    502\u001b[0m \u001b[38;5;28mself\u001b[39m\u001b[38;5;241m.\u001b[39m_add_table()\n\u001b[0;32m    503\u001b[0m \u001b[38;5;28mself\u001b[39m\u001b[38;5;241m.\u001b[39m_make_legend()\n",
      "File \u001b[1;32mt:\\asset_simulation\\.venv\\Lib\\site-packages\\pandas\\plotting\\_matplotlib\\core.py:1566\u001b[0m, in \u001b[0;36mLinePlot._make_plot\u001b[1;34m(self, fig)\u001b[0m\n\u001b[0;32m   1562\u001b[0m \u001b[38;5;28;01mif\u001b[39;00m \u001b[38;5;28mself\u001b[39m\u001b[38;5;241m.\u001b[39m_is_ts_plot():\n\u001b[0;32m   1563\u001b[0m     \u001b[38;5;66;03m# reset of xlim should be used for ts data\u001b[39;00m\n\u001b[0;32m   1564\u001b[0m     \u001b[38;5;66;03m# TODO: GH28021, should find a way to change view limit on xaxis\u001b[39;00m\n\u001b[0;32m   1565\u001b[0m     lines \u001b[38;5;241m=\u001b[39m get_all_lines(ax)\n\u001b[1;32m-> 1566\u001b[0m     left, right \u001b[38;5;241m=\u001b[39m \u001b[43mget_xlim\u001b[49m\u001b[43m(\u001b[49m\u001b[43mlines\u001b[49m\u001b[43m)\u001b[49m\n\u001b[0;32m   1567\u001b[0m     ax\u001b[38;5;241m.\u001b[39mset_xlim(left, right)\n",
      "File \u001b[1;32mt:\\asset_simulation\\.venv\\Lib\\site-packages\\pandas\\plotting\\_matplotlib\\tools.py:490\u001b[0m, in \u001b[0;36mget_xlim\u001b[1;34m(lines)\u001b[0m\n\u001b[0;32m    488\u001b[0m \u001b[38;5;28;01mfor\u001b[39;00m line \u001b[38;5;129;01min\u001b[39;00m lines:\n\u001b[0;32m    489\u001b[0m     x \u001b[38;5;241m=\u001b[39m line\u001b[38;5;241m.\u001b[39mget_xdata(orig\u001b[38;5;241m=\u001b[39m\u001b[38;5;28;01mFalse\u001b[39;00m)\n\u001b[1;32m--> 490\u001b[0m     left \u001b[38;5;241m=\u001b[39m \u001b[38;5;28mmin\u001b[39m(\u001b[43mnp\u001b[49m\u001b[38;5;241;43m.\u001b[39;49m\u001b[43mnanmin\u001b[49m\u001b[43m(\u001b[49m\u001b[43mx\u001b[49m\u001b[43m)\u001b[49m, left)\n\u001b[0;32m    491\u001b[0m     right \u001b[38;5;241m=\u001b[39m \u001b[38;5;28mmax\u001b[39m(np\u001b[38;5;241m.\u001b[39mnanmax(x), right)\n\u001b[0;32m    492\u001b[0m \u001b[38;5;28;01mreturn\u001b[39;00m left, right\n",
      "File \u001b[1;32mt:\\asset_simulation\\.venv\\Lib\\site-packages\\numpy\\lib\\_nanfunctions_impl.py:357\u001b[0m, in \u001b[0;36mnanmin\u001b[1;34m(a, axis, out, keepdims, initial, where)\u001b[0m\n\u001b[0;32m    352\u001b[0m     kwargs[\u001b[38;5;124m'\u001b[39m\u001b[38;5;124mwhere\u001b[39m\u001b[38;5;124m'\u001b[39m] \u001b[38;5;241m=\u001b[39m where\n\u001b[0;32m    354\u001b[0m \u001b[38;5;28;01mif\u001b[39;00m \u001b[38;5;28mtype\u001b[39m(a) \u001b[38;5;129;01mis\u001b[39;00m np\u001b[38;5;241m.\u001b[39mndarray \u001b[38;5;129;01mand\u001b[39;00m a\u001b[38;5;241m.\u001b[39mdtype \u001b[38;5;241m!=\u001b[39m np\u001b[38;5;241m.\u001b[39mobject_:\n\u001b[0;32m    355\u001b[0m     \u001b[38;5;66;03m# Fast, but not safe for subclasses of ndarray, or object arrays,\u001b[39;00m\n\u001b[0;32m    356\u001b[0m     \u001b[38;5;66;03m# which do not implement isnan (gh-9009), or fmin correctly (gh-8975)\u001b[39;00m\n\u001b[1;32m--> 357\u001b[0m     res \u001b[38;5;241m=\u001b[39m \u001b[43mnp\u001b[49m\u001b[38;5;241;43m.\u001b[39;49m\u001b[43mfmin\u001b[49m\u001b[38;5;241;43m.\u001b[39;49m\u001b[43mreduce\u001b[49m\u001b[43m(\u001b[49m\u001b[43ma\u001b[49m\u001b[43m,\u001b[49m\u001b[43m \u001b[49m\u001b[43maxis\u001b[49m\u001b[38;5;241;43m=\u001b[39;49m\u001b[43maxis\u001b[49m\u001b[43m,\u001b[49m\u001b[43m \u001b[49m\u001b[43mout\u001b[49m\u001b[38;5;241;43m=\u001b[39;49m\u001b[43mout\u001b[49m\u001b[43m,\u001b[49m\u001b[43m \u001b[49m\u001b[38;5;241;43m*\u001b[39;49m\u001b[38;5;241;43m*\u001b[39;49m\u001b[43mkwargs\u001b[49m\u001b[43m)\u001b[49m\n\u001b[0;32m    358\u001b[0m     \u001b[38;5;28;01mif\u001b[39;00m np\u001b[38;5;241m.\u001b[39misnan(res)\u001b[38;5;241m.\u001b[39many():\n\u001b[0;32m    359\u001b[0m         warnings\u001b[38;5;241m.\u001b[39mwarn(\u001b[38;5;124m\"\u001b[39m\u001b[38;5;124mAll-NaN slice encountered\u001b[39m\u001b[38;5;124m\"\u001b[39m, \u001b[38;5;167;01mRuntimeWarning\u001b[39;00m,\n\u001b[0;32m    360\u001b[0m                       stacklevel\u001b[38;5;241m=\u001b[39m\u001b[38;5;241m2\u001b[39m)\n",
      "\u001b[1;31mValueError\u001b[0m: zero-size array to reduction operation fmin which has no identity"
     ]
    },
    {
     "data": {
      "image/png": "[encoded data removed]",
      "text/plain": [
       "<Figure size 640x480 with 1 Axes>"
      ]
     },
     "metadata": {},
     "output_type": "display_data"
    }
   ],
   "source": [
    "# Visualize the monthly index chart\n",
    "monthly_index['Close'].plot()\n",
    "plt.show()\n",
    "monthly_index['Close'].plot(logy=True)\n",
    "plt.show()\n",
    "\n",
    "# Calculate the mean and standard deviation of the monthly return\n",
    "mean_monthly_return = monthly_index['Return'].mean()\n",
    "std_monthly_return = monthly_index['Return'].std()\n",
    "print(\"mean: \", mean_monthly_return)\n",
    "print(\"std: \", std_monthly_return)\n",
    "\n",
    "# Visualize the monthly return histogram\n",
    "monthly_index['Return'].hist(bins=100, density=True)\n",
    "# Overlay the normal distribution according to the mean and standard deviation\n",
    "x = np.linspace(-0.4, 0.4, 1000)\n",
    "y = 1 / (std_monthly_return * np.sqrt(2 * np.pi)) * np.exp(- (x - mean_monthly_return) ** 2 / (2 * std_monthly_return ** 2))\n",
    "plt.plot(x, y, color='r')\n",
    "plt.title('Monthly Return Histogram')\n",
    "plt.show()\n"
   ]
  },
  {
   "cell_type": "markdown",
   "metadata": {},
   "source": [
    "## Monte Carlo simulation until retirement"
   ]
  },
  {
   "cell_type": "code",
   "execution_count": null,
   "metadata": {},
   "outputs": [
    {
     "name": "stdout",
     "output_type": "stream",
     "text": [
      "Principal:  18000000\n",
      "========================================\n",
      "Worst case:  1121030\n",
      "Bottom 1%:  11467271\n",
      "Bottom 2%:  15500538\n",
      "Bottom 3%:  18622841\n",
      "Bottom 4%:  21601082\n",
      "Bottom 5%:  24281007\n",
      "Bottom 10%:  36292237\n",
      "Bottom 20%:  58401009\n",
      "Bottom 30%:  82564281\n",
      "Median:  146263673\n",
      "Top 10%:  596451684\n"
     ]
    }
   ],
   "source": [
    "monthly_trust_fee = (trust_fee / 100) ** (1/12)\n",
    "print(\"Monthly Trust Fee: \", monthly_trust_fee)\n",
    "result = []\n",
    "for n in range(monte_carlo_simulation_time):\n",
    "    accumulated_principal = 0\n",
    "    market_value = 0\n",
    "    investment_return = 0\n",
    "    for year in range(accumulation_year):\n",
    "        for month in range(12):\n",
    "            if accumulated_principal < nisa_capacity:\n",
    "                accumulated_principal += monthly_investment_until_fill_nisa\n",
    "                market_value += monthly_investment_until_fill_nisa\n",
    "            else:\n",
    "                accumulated_principal += monthly_investment_after_fill_nisa\n",
    "                market_value += monthly_investment_after_fill_nisa\n",
    "\n",
    "            market_value *= (1 + np.random.normal(mean_monthly_return, std_monthly_return))\n",
    "            investment_return *= (1 + np.random.normal(mean_monthly_return, std_monthly_return) - monthly_trust_fee)\n",
    "            \n",
    "    result.append(investment_return)\n",
    "result = pd.Series(result)\n",
    "# print(result.mean())\n",
    "# print(result.std())\n",
    "print(\"Principal: \", accumulated_principal)\n",
    "print(\"========================================\")\n",
    "print(\"Worst case: \", int(result.min()))\n",
    "print(\"Bottom 1%: \", int(result.quantile(0.01)))\n",
    "print(\"Bottom 2%: \", int(result.quantile(0.02)))\n",
    "print(\"Bottom 3%: \", int(result.quantile(0.03)))\n",
    "print(\"Bottom 4%: \", int(result.quantile(0.04)))\n",
    "print(\"Bottom 5%: \", int(result.quantile(0.05)))\n",
    "print(\"Bottom 10%: \", int(result.quantile(0.1)))\n",
    "print(\"Bottom 20%: \", int(result.quantile(0.2)))\n",
    "print(\"Bottom 30%: \", int(result.quantile(0.3)))\n",
    "print(\"Median: \", int(result.quantile(0.5)))\n",
    "print(\"Top 10%: \", int(result.quantile(0.9)))"
   ]
  },
  {
   "cell_type": "markdown",
   "metadata": {},
   "source": [
    "## Monte Carlo simulation lifetime"
   ]
  },
  {
   "cell_type": "code",
   "execution_count": null,
   "metadata": {},
   "outputs": [
    {
     "name": "stdout",
     "output_type": "stream",
     "text": [
      "Principal:  18000000\n",
      "total_withdrawal:  -48000000\n",
      "========================================\n",
      "Worst case:  -47544555\n",
      "Bottom 1%:  -33892739\n",
      "Bottom 2%:  -26896677\n",
      "Bottom 3%:  -19651488\n",
      "Bottom 4%:  -10526869\n",
      "Bottom 5%:  1817382\n",
      "Bottom 10%:  73579148\n",
      "Bottom 20%:  252855054\n",
      "Bottom 30%:  499104787\n",
      "Median:  1353030048\n",
      "Top 10%:  11900709486\n"
     ]
    }
   ],
   "source": [
    "result = []\n",
    "for n in range(monte_carlo_simulation_time):\n",
    "    accumulated_principal = 0\n",
    "    market_value = 0\n",
    "    investment_return = 0\n",
    "    for year in range(accumulation_year):\n",
    "        for month in range(12):\n",
    "            if accumulated_principal < nisa_capacity:\n",
    "                accumulated_principal += monthly_investment_until_fill_nisa\n",
    "                market_value += monthly_investment_until_fill_nisa\n",
    "            else:\n",
    "                accumulated_principal += monthly_investment_after_fill_nisa\n",
    "                market_value += monthly_investment_after_fill_nisa\n",
    "\n",
    "            market_value *= (1 + np.random.normal(mean_monthly_return, std_monthly_return))\n",
    "            investment_return *= (1 + np.random.normal(mean_monthly_return, std_monthly_return) - monthly_trust_fee)\n",
    "\n",
    "    total_withdrawal = 0        \n",
    "    for year in range(year_after_retirement):\n",
    "        for month in range(12):\n",
    "            total_withdrawal -= monthly_withdrawal_after_retirement\n",
    "            market_value -= monthly_withdrawal_after_retirement\n",
    "            if market_value > 0:\n",
    "                market_value *= (1 + np.random.normal(mean_monthly_return, std_monthly_return))\n",
    "                investment_return *= (1 + np.random.normal(mean_monthly_return, std_monthly_return) - monthly_trust_fee)\n",
    "            else:\n",
    "                # Bankrupt\n",
    "                market_value = market_value\n",
    "                investment_return = investment_return\n",
    "\n",
    "    result.append(investment_return)\n",
    "result = pd.Series(result)\n",
    "# print(result.mean())\n",
    "# print(result.std())\n",
    "print(\"Principal: \", accumulated_principal)\n",
    "print(\"total_withdrawal: \", total_withdrawal)\n",
    "print(\"========================================\")\n",
    "print(\"Worst case: \", int(result.min()))\n",
    "print(\"Bottom 1%: \", int(result.quantile(0.01)))\n",
    "print(\"Bottom 2%: \", int(result.quantile(0.02)))\n",
    "print(\"Bottom 3%: \", int(result.quantile(0.03)))\n",
    "print(\"Bottom 4%: \", int(result.quantile(0.04)))\n",
    "print(\"Bottom 5%: \", int(result.quantile(0.05)))\n",
    "print(\"Bottom 10%: \", int(result.quantile(0.1)))\n",
    "print(\"Bottom 20%: \", int(result.quantile(0.2)))\n",
    "print(\"Bottom 30%: \", int(result.quantile(0.3)))\n",
    "print(\"Median: \", int(result.quantile(0.5)))\n",
    "print(\"Top 10%: \", int(result.quantile(0.9)))"
   ]
  },
  {
   "cell_type": "markdown",
   "metadata": {},
   "source": [
    "## Monte Carlo simulation only after retirement"
   ]
  },
  {
   "cell_type": "code",
   "execution_count": null,
   "metadata": {},
   "outputs": [
    {
     "name": "stdout",
     "output_type": "stream",
     "text": [
      "Principal:  50000000\n",
      "total_withdrawal:  -48000000\n",
      "========================================\n",
      "Worst case:  -33647270\n",
      "Bottom 1%:  -19707622\n",
      "Bottom 2%:  -14090663\n",
      "Bottom 3%:  -8835881\n",
      "Bottom 4%:  -3555273\n",
      "Bottom 5%:  2459468\n",
      "Bottom 10%:  28961315\n",
      "Bottom 20%:  84039867\n",
      "Bottom 30%:  146649065\n",
      "Median:  329896663\n",
      "Top 10%:  1836923722\n"
     ]
    }
   ],
   "source": [
    "initial_capital = 50000000\n",
    "\n",
    "\n",
    "\n",
    "result = []\n",
    "for n in range(monte_carlo_simulation_time):\n",
    "    accumulated_principal = initial_capital\n",
    "    market_value = initial_capital\n",
    "    investment_return = initial_capital\n",
    "\n",
    "    total_withdrawal = 0        \n",
    "    for year in range(year_after_retirement):\n",
    "        for month in range(12):\n",
    "            total_withdrawal -= monthly_withdrawal_after_retirement\n",
    "            market_value -= monthly_withdrawal_after_retirement\n",
    "            if market_value > 0:\n",
    "                market_value *= (1 + np.random.normal(mean_monthly_return, std_monthly_return))\n",
    "                investment_return *= (1 + np.random.normal(mean_monthly_return, std_monthly_return) - monthly_trust_fee)\n",
    "            else:\n",
    "                # Bankrupt\n",
    "                market_value = market_value\n",
    "\n",
    "    result.append(investment_return)\n",
    "result = pd.Series(result)\n",
    "# print(result.mean())\n",
    "# print(result.std())\n",
    "print(\"Principal: \", accumulated_principal)\n",
    "print(\"total_withdrawal: \", total_withdrawal)\n",
    "print(\"========================================\")\n",
    "print(\"Worst case: \", int(result.min()))\n",
    "print(\"Bottom 1%: \", int(result.quantile(0.01)))\n",
    "print(\"Bottom 2%: \", int(result.quantile(0.02)))\n",
    "print(\"Bottom 3%: \", int(result.quantile(0.03)))\n",
    "print(\"Bottom 4%: \", int(result.quantile(0.04)))\n",
    "print(\"Bottom 5%: \", int(result.quantile(0.05)))\n",
    "print(\"Bottom 10%: \", int(result.quantile(0.1)))\n",
    "print(\"Bottom 20%: \", int(result.quantile(0.2)))\n",
    "print(\"Bottom 30%: \", int(result.quantile(0.3)))\n",
    "print(\"Median: \", int(result.quantile(0.5)))\n",
    "print(\"Top 10%: \", int(result.quantile(0.9)))"
   ]
  }
 ],
 "metadata": {
  "kernelspec": {
   "display_name": ".venv",
   "language": "python",
   "name": "python3"
  },
  "language_info": {
   "codemirror_mode": {
    "name": "ipython",
    "version": 3
   },
   "file_extension": ".py",
   "mimetype": "text/x-python",
   "name": "python",
   "nbconvert_exporter": "python",
   "pygments_lexer": "ipython3",
   "version": "3.13.0"
  }
 },
 "nbformat": 4,
 "nbformat_minor": 2
}
