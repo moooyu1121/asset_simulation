{
 "cells": [
  {
   "cell_type": "markdown",
   "metadata": {},
   "source": [
    "# Accumulation investment simulation\n",
    "Excahnge rate is NOT included!!"
   ]
  },
  {
   "cell_type": "code",
   "execution_count": null,
   "metadata": {},
   "outputs": [],
   "source": [
    "nisa_capacity = 18000000\n",
    "monthly_investment_until_fill_nisa = 150000\n",
    "monthly_investment_after_fill_nisa = 150000\n",
    "accumulation_year = 35\n",
    "trust_fee = 0.1  # percentage per year\n",
    "\n",
    "monthly_withdrawal_after_retirement = 100000\n",
    "year_after_retirement = 40\n",
    "\n",
    "# ticker_symbol = \"ACWI\"  # All Country World Index\n",
    "ticker_symbol = \"^GSPC\"  # S&P 500\n",
    "# ticker_symbol = \"^N225\"  # Nikkei 225\n",
    "# ticker_symbol = \"SCHD\"  # Schwab US Dividend Equity ETF\n",
    "# ticker_symbol = \"^RUT\"  # Russell 2000\n",
    "\n",
    "monte_carlo_simulation_time = 100000"
   ]
  },
  {
   "cell_type": "markdown",
   "metadata": {},
   "source": [
    "## Index history and score"
   ]
  },
  {
   "cell_type": "code",
   "execution_count": 5,
   "metadata": {},
   "outputs": [
    {
     "name": "stderr",
     "output_type": "stream",
     "text": [
      "[*********************100%***********************]  1 of 1 completed\n",
      "\n",
      "1 Failed download:\n",
      "['ACWI']: YFRateLimitError('Too Many Requests. Rate limited. Try after a while.')\n"
     ]
    },
    {
     "data": {
      "text/html": [
       "<div>\n",
       "<style scoped>\n",
       "    .dataframe tbody tr th:only-of-type {\n",
       "        vertical-align: middle;\n",
       "    }\n",
       "\n",
       "    .dataframe tbody tr th {\n",
       "        vertical-align: top;\n",
       "    }\n",
       "\n",
       "    .dataframe thead tr th {\n",
       "        text-align: left;\n",
       "    }\n",
       "\n",
       "    .dataframe thead tr:last-of-type th {\n",
       "        text-align: right;\n",
       "    }\n",
       "</style>\n",
       "<table border=\"1\" class=\"dataframe\">\n",
       "  <thead>\n",
       "    <tr>\n",
       "      <th>Price</th>\n",
       "      <th>Adj Close</th>\n",
       "      <th>Close</th>\n",
       "      <th>High</th>\n",
       "      <th>Low</th>\n",
       "      <th>Open</th>\n",
       "      <th>Volume</th>\n",
       "    </tr>\n",
       "    <tr>\n",
       "      <th>Ticker</th>\n",
       "      <th>ACWI</th>\n",
       "      <th>ACWI</th>\n",
       "      <th>ACWI</th>\n",
       "      <th>ACWI</th>\n",
       "      <th>ACWI</th>\n",
       "      <th>ACWI</th>\n",
       "    </tr>\n",
       "    <tr>\n",
       "      <th>Date</th>\n",
       "      <th></th>\n",
       "      <th></th>\n",
       "      <th></th>\n",
       "      <th></th>\n",
       "      <th></th>\n",
       "      <th></th>\n",
       "    </tr>\n",
       "  </thead>\n",
       "  <tbody>\n",
       "  </tbody>\n",
       "</table>\n",
       "</div>"
      ],
      "text/plain": [
       "Empty DataFrame\n",
       "Columns: [(Adj Close, ACWI), (Close, ACWI), (High, ACWI), (Low, ACWI), (Open, ACWI), (Volume, ACWI)]\n",
       "Index: []"
      ]
     },
     "execution_count": 5,
     "metadata": {},
     "output_type": "execute_result"
    }
   ],
   "source": [
    "import pandas as pd\n",
    "import numpy as np\n",
    "import yfinance as yf\n",
    "import matplotlib.pyplot as plt\n",
    "\n",
    "index_data = yf.download(ticker_symbol, period=\"max\")\n",
    "index_data"
   ]
  },
  {
   "cell_type": "code",
   "execution_count": 154,
   "metadata": {},
   "outputs": [
    {
     "data": {
      "text/html": [
       "<div>\n",
       "<style scoped>\n",
       "    .dataframe tbody tr th:only-of-type {\n",
       "        vertical-align: middle;\n",
       "    }\n",
       "\n",
       "    .dataframe tbody tr th {\n",
       "        vertical-align: top;\n",
       "    }\n",
       "\n",
       "    .dataframe thead tr th {\n",
       "        text-align: left;\n",
       "    }\n",
       "\n",
       "    .dataframe thead tr:last-of-type th {\n",
       "        text-align: right;\n",
       "    }\n",
       "</style>\n",
       "<table border=\"1\" class=\"dataframe\">\n",
       "  <thead>\n",
       "    <tr>\n",
       "      <th>Price</th>\n",
       "      <th>Open</th>\n",
       "      <th>Close</th>\n",
       "      <th>Return</th>\n",
       "    </tr>\n",
       "    <tr>\n",
       "      <th>Ticker</th>\n",
       "      <th>^GSPC</th>\n",
       "      <th>^GSPC</th>\n",
       "      <th></th>\n",
       "    </tr>\n",
       "    <tr>\n",
       "      <th>Date</th>\n",
       "      <th></th>\n",
       "      <th></th>\n",
       "      <th></th>\n",
       "    </tr>\n",
       "  </thead>\n",
       "  <tbody>\n",
       "    <tr>\n",
       "      <th>1928-01-31</th>\n",
       "      <td>17.760000</td>\n",
       "      <td>17.570000</td>\n",
       "      <td>-0.005096</td>\n",
       "    </tr>\n",
       "    <tr>\n",
       "      <th>1928-02-29</th>\n",
       "      <td>17.530001</td>\n",
       "      <td>17.260000</td>\n",
       "      <td>-0.017644</td>\n",
       "    </tr>\n",
       "    <tr>\n",
       "      <th>1928-03-31</th>\n",
       "      <td>17.299999</td>\n",
       "      <td>19.280001</td>\n",
       "      <td>0.117034</td>\n",
       "    </tr>\n",
       "    <tr>\n",
       "      <th>1928-04-30</th>\n",
       "      <td>18.910000</td>\n",
       "      <td>19.750000</td>\n",
       "      <td>0.024378</td>\n",
       "    </tr>\n",
       "    <tr>\n",
       "      <th>1928-05-31</th>\n",
       "      <td>19.780001</td>\n",
       "      <td>20.000000</td>\n",
       "      <td>0.012658</td>\n",
       "    </tr>\n",
       "    <tr>\n",
       "      <th>...</th>\n",
       "      <td>...</td>\n",
       "      <td>...</td>\n",
       "      <td>...</td>\n",
       "    </tr>\n",
       "    <tr>\n",
       "      <th>2024-10-31</th>\n",
       "      <td>5757.729980</td>\n",
       "      <td>5705.450195</td>\n",
       "      <td>-0.009897</td>\n",
       "    </tr>\n",
       "    <tr>\n",
       "      <th>2024-11-30</th>\n",
       "      <td>5723.220215</td>\n",
       "      <td>6032.379883</td>\n",
       "      <td>0.057301</td>\n",
       "    </tr>\n",
       "    <tr>\n",
       "      <th>2024-12-31</th>\n",
       "      <td>6040.109863</td>\n",
       "      <td>5881.629883</td>\n",
       "      <td>-0.024990</td>\n",
       "    </tr>\n",
       "    <tr>\n",
       "      <th>2025-01-31</th>\n",
       "      <td>5903.259766</td>\n",
       "      <td>6040.529785</td>\n",
       "      <td>0.027016</td>\n",
       "    </tr>\n",
       "    <tr>\n",
       "      <th>2025-02-28</th>\n",
       "      <td>5969.649902</td>\n",
       "      <td>5954.500000</td>\n",
       "      <td>-0.014242</td>\n",
       "    </tr>\n",
       "  </tbody>\n",
       "</table>\n",
       "<p>1166 rows × 3 columns</p>\n",
       "</div>"
      ],
      "text/plain": [
       "Price              Open        Close    Return\n",
       "Ticker            ^GSPC        ^GSPC          \n",
       "Date                                          \n",
       "1928-01-31    17.760000    17.570000 -0.005096\n",
       "1928-02-29    17.530001    17.260000 -0.017644\n",
       "1928-03-31    17.299999    19.280001  0.117034\n",
       "1928-04-30    18.910000    19.750000  0.024378\n",
       "1928-05-31    19.780001    20.000000  0.012658\n",
       "...                 ...          ...       ...\n",
       "2024-10-31  5757.729980  5705.450195 -0.009897\n",
       "2024-11-30  5723.220215  6032.379883  0.057301\n",
       "2024-12-31  6040.109863  5881.629883 -0.024990\n",
       "2025-01-31  5903.259766  6040.529785  0.027016\n",
       "2025-02-28  5969.649902  5954.500000 -0.014242\n",
       "\n",
       "[1166 rows x 3 columns]"
      ]
     },
     "execution_count": 154,
     "metadata": {},
     "output_type": "execute_result"
    }
   ],
   "source": [
    "# Resample to monthly data and get Open and Close\n",
    "monthly_index = index_data.resample('ME').agg({('Open', ticker_symbol): 'first', ('Close', ticker_symbol): 'last'})\n",
    "# Calculate the monthly return\n",
    "monthly_index['Return'] = monthly_index['Close'].pct_change()\n",
    "# Drop the first and last row, which is the current month\n",
    "monthly_index = monthly_index.iloc[1:-1]\n",
    "# monthly_index.to_csv('monthly_index.csv')\n",
    "monthly_index"
   ]
  },
  {
   "cell_type": "code",
   "execution_count": 155,
   "metadata": {},
   "outputs": [
    {
     "data": {
      "image/png": "[encoded data removed]",
      "text/plain": [
       "<Figure size 640x480 with 1 Axes>"
      ]
     },
     "metadata": {},
     "output_type": "display_data"
    },
    {
     "data": {
      "image/png": "[encoded data removed]",
      "text/plain": [
       "<Figure size 640x480 with 1 Axes>"
      ]
     },
     "metadata": {},
     "output_type": "display_data"
    },
    {
     "name": "stdout",
     "output_type": "stream",
     "text": [
      "mean:  0.006438962196716903\n",
      "std:  0.0534907933887695\n"
     ]
    },
    {
     "data": {
      "image/png": "[encoded data removed]",
      "text/plain": [
       "<Figure size 640x480 with 1 Axes>"
      ]
     },
     "metadata": {},
     "output_type": "display_data"
    }
   ],
   "source": [
    "# Visualize the monthly index chart\n",
    "monthly_index['Close'].plot()\n",
    "plt.show()\n",
    "monthly_index['Close'].plot(logy=True)\n",
    "plt.show()\n",
    "\n",
    "# Calculate the mean and standard deviation of the monthly return\n",
    "mean_monthly_return = monthly_index['Return'].mean()\n",
    "std_monthly_return = monthly_index['Return'].std()\n",
    "print(\"mean: \", mean_monthly_return)\n",
    "print(\"std: \", std_monthly_return)\n",
    "\n",
    "# Visualize the monthly return histogram\n",
    "monthly_index['Return'].hist(bins=100, density=True)\n",
    "# Overlay the normal distribution according to the mean and standard deviation\n",
    "x = np.linspace(-0.4, 0.4, 1000)\n",
    "y = 1 / (std_monthly_return * np.sqrt(2 * np.pi)) * np.exp(- (x - mean_monthly_return) ** 2 / (2 * std_monthly_return ** 2))\n",
    "plt.plot(x, y, color='r')\n",
    "plt.title('Monthly Return Histogram')\n",
    "plt.show()\n"
   ]
  },
  {
   "cell_type": "markdown",
   "metadata": {},
   "source": [
    "## Monte Carlo simulation until retirement"
   ]
  },
  {
   "cell_type": "code",
   "execution_count": 156,
   "metadata": {},
   "outputs": [
    {
     "name": "stdout",
     "output_type": "stream",
     "text": [
      "Monthly Trust Fee:  0.0016666666666666668\n",
      "Principal:  30000000\n",
      "========================================\n",
      "Worst case:  4621668\n",
      "Bottom 1%:  14064034\n",
      "Bottom 2%:  16813606\n",
      "Bottom 3%:  18956366\n",
      "Bottom 4%:  20762989\n",
      "Bottom 5%:  22398203\n",
      "Bottom 10%:  28968321\n",
      "Bottom 20%:  39952664\n",
      "Bottom 30%:  50961208\n",
      "Median:  77760892\n",
      "Top 10%:  228708451\n"
     ]
    }
   ],
   "source": [
    "import math\n",
    "# monthly_trust_fee = math.pow((trust_fee / 100), (1/12))\n",
    "monthly_trust_fee = trust_fee / 100 / 12\n",
    "print(\"Monthly Trust Fee: \", monthly_trust_fee)\n",
    "result = []\n",
    "for n in range(monte_carlo_simulation_time):\n",
    "    accumulated_principal = 0\n",
    "    market_value = 0\n",
    "    investment_return = 0\n",
    "    for year in range(accumulation_year):\n",
    "        for month in range(12):\n",
    "            if accumulated_principal < nisa_capacity:\n",
    "                accumulated_principal += monthly_investment_until_fill_nisa\n",
    "                market_value += monthly_investment_until_fill_nisa\n",
    "                investment_return += monthly_investment_until_fill_nisa\n",
    "            else:\n",
    "                accumulated_principal += monthly_investment_after_fill_nisa\n",
    "                market_value += monthly_investment_after_fill_nisa\n",
    "                investment_return += monthly_investment_after_fill_nisa\n",
    "\n",
    "            market_value *= (1 + np.random.normal(mean_monthly_return, std_monthly_return))\n",
    "            investment_return *= (1 + np.random.normal(mean_monthly_return, std_monthly_return) - monthly_trust_fee)\n",
    "            \n",
    "    result.append(investment_return)\n",
    "result = pd.Series(result)\n",
    "# print(result.mean())\n",
    "# print(result.std())\n",
    "print(\"Principal: \", accumulated_principal)\n",
    "print(\"========================================\")\n",
    "print(\"Worst case: \", int(result.min()))\n",
    "print(\"Bottom 1%: \", int(result.quantile(0.01)))\n",
    "print(\"Bottom 2%: \", int(result.quantile(0.02)))\n",
    "print(\"Bottom 3%: \", int(result.quantile(0.03)))\n",
    "print(\"Bottom 4%: \", int(result.quantile(0.04)))\n",
    "print(\"Bottom 5%: \", int(result.quantile(0.05)))\n",
    "print(\"Bottom 10%: \", int(result.quantile(0.1)))\n",
    "print(\"Bottom 20%: \", int(result.quantile(0.2)))\n",
    "print(\"Bottom 30%: \", int(result.quantile(0.3)))\n",
    "print(\"Median: \", int(result.quantile(0.5)))\n",
    "print(\"Top 10%: \", int(result.quantile(0.9)))"
   ]
  },
  {
   "cell_type": "markdown",
   "metadata": {},
   "source": [
    "## Monte Carlo simulation lifetime"
   ]
  },
  {
   "cell_type": "code",
   "execution_count": 157,
   "metadata": {},
   "outputs": [
    {
     "name": "stdout",
     "output_type": "stream",
     "text": [
      "Principal:  30000000\n",
      "total_withdrawal:  -48000000\n",
      "========================================\n",
      "Worst case:  -770891478\n",
      "Bottom 1%:  -92928246\n",
      "Bottom 2%:  -64258194\n",
      "Bottom 3%:  -48943598\n",
      "Bottom 4%:  -39156879\n",
      "Bottom 5%:  -32290658\n",
      "Bottom 10%:  -11137867\n",
      "Bottom 20%:  26224388\n",
      "Bottom 30%:  75800127\n",
      "Median:  241469773\n",
      "Top 10%:  2084915737\n"
     ]
    }
   ],
   "source": [
    "monthly_trust_fee = trust_fee / 100 / 12\n",
    "result = []\n",
    "for n in range(monte_carlo_simulation_time):\n",
    "    accumulated_principal = 0\n",
    "    market_value = 0\n",
    "    investment_return = 0\n",
    "    for year in range(accumulation_year):\n",
    "        for month in range(12):\n",
    "            if accumulated_principal < nisa_capacity:\n",
    "                accumulated_principal += monthly_investment_until_fill_nisa\n",
    "                market_value += monthly_investment_until_fill_nisa\n",
    "                investment_return += monthly_investment_until_fill_nisa\n",
    "            else:\n",
    "                accumulated_principal += monthly_investment_after_fill_nisa\n",
    "                market_value += monthly_investment_after_fill_nisa\n",
    "                investment_return += monthly_investment_after_fill_nisa\n",
    "\n",
    "            market_value *= (1 + np.random.normal(mean_monthly_return, std_monthly_return))\n",
    "            investment_return *= (1 + np.random.normal(mean_monthly_return, std_monthly_return) - monthly_trust_fee)\n",
    "\n",
    "    total_withdrawal = 0        \n",
    "    for year in range(year_after_retirement):\n",
    "        for month in range(12):\n",
    "            total_withdrawal -= monthly_withdrawal_after_retirement\n",
    "            market_value -= monthly_withdrawal_after_retirement\n",
    "            investment_return -= monthly_withdrawal_after_retirement\n",
    "            if market_value > 0:\n",
    "                market_value *= (1 + np.random.normal(mean_monthly_return, std_monthly_return))\n",
    "                investment_return *= (1 + np.random.normal(mean_monthly_return, std_monthly_return) - monthly_trust_fee)\n",
    "            else:\n",
    "                # Bankrupt\n",
    "                market_value = market_value\n",
    "                investment_return = investment_return\n",
    "\n",
    "    result.append(investment_return)\n",
    "result = pd.Series(result)\n",
    "# print(result.mean())\n",
    "# print(result.std())\n",
    "print(\"Principal: \", accumulated_principal)\n",
    "print(\"total_withdrawal: \", total_withdrawal)\n",
    "print(\"========================================\")\n",
    "print(\"Worst case: \", int(result.min()))\n",
    "print(\"Bottom 1%: \", int(result.quantile(0.01)))\n",
    "print(\"Bottom 2%: \", int(result.quantile(0.02)))\n",
    "print(\"Bottom 3%: \", int(result.quantile(0.03)))\n",
    "print(\"Bottom 4%: \", int(result.quantile(0.04)))\n",
    "print(\"Bottom 5%: \", int(result.quantile(0.05)))\n",
    "print(\"Bottom 10%: \", int(result.quantile(0.1)))\n",
    "print(\"Bottom 20%: \", int(result.quantile(0.2)))\n",
    "print(\"Bottom 30%: \", int(result.quantile(0.3)))\n",
    "print(\"Median: \", int(result.quantile(0.5)))\n",
    "print(\"Top 10%: \", int(result.quantile(0.9)))"
   ]
  },
  {
   "cell_type": "markdown",
   "metadata": {},
   "source": [
    "## Monte Carlo simulation only after retirement"
   ]
  },
  {
   "cell_type": "code",
   "execution_count": 158,
   "metadata": {},
   "outputs": [
    {
     "name": "stdout",
     "output_type": "stream",
     "text": [
      "Principal:  50000000\n",
      "total_withdrawal:  -48000000\n",
      "========================================\n",
      "Worst case:  1022173\n",
      "Bottom 1%:  16381602\n",
      "Bottom 2%:  22364144\n",
      "Bottom 3%:  27281657\n",
      "Bottom 4%:  31652825\n",
      "Bottom 5%:  35696875\n",
      "Bottom 10%:  54871712\n",
      "Bottom 20%:  91483268\n",
      "Bottom 30%:  132243218\n",
      "Median:  243263094\n",
      "Top 10%:  1080125236\n"
     ]
    }
   ],
   "source": [
    "initial_capital = 50000000\n",
    "\n",
    "monthly_trust_fee = trust_fee / 100 / 12\n",
    "\n",
    "result = []\n",
    "for n in range(monte_carlo_simulation_time):\n",
    "    accumulated_principal = initial_capital\n",
    "    market_value = initial_capital\n",
    "    investment_return = initial_capital\n",
    "\n",
    "    total_withdrawal = 0        \n",
    "    for year in range(year_after_retirement):\n",
    "        for month in range(12):\n",
    "            total_withdrawal -= monthly_withdrawal_after_retirement\n",
    "            market_value -= monthly_withdrawal_after_retirement\n",
    "            if market_value > 0:\n",
    "                market_value *= (1 + np.random.normal(mean_monthly_return, std_monthly_return))\n",
    "                investment_return *= (1 + np.random.normal(mean_monthly_return, std_monthly_return) - monthly_trust_fee)\n",
    "            else:\n",
    "                # Bankrupt\n",
    "                market_value = market_value\n",
    "\n",
    "    result.append(investment_return)\n",
    "result = pd.Series(result)\n",
    "# print(result.mean())\n",
    "# print(result.std())\n",
    "print(\"Principal: \", accumulated_principal)\n",
    "print(\"total_withdrawal: \", total_withdrawal)\n",
    "print(\"========================================\")\n",
    "print(\"Worst case: \", int(result.min()))\n",
    "print(\"Bottom 1%: \", int(result.quantile(0.01)))\n",
    "print(\"Bottom 2%: \", int(result.quantile(0.02)))\n",
    "print(\"Bottom 3%: \", int(result.quantile(0.03)))\n",
    "print(\"Bottom 4%: \", int(result.quantile(0.04)))\n",
    "print(\"Bottom 5%: \", int(result.quantile(0.05)))\n",
    "print(\"Bottom 10%: \", int(result.quantile(0.1)))\n",
    "print(\"Bottom 20%: \", int(result.quantile(0.2)))\n",
    "print(\"Bottom 30%: \", int(result.quantile(0.3)))\n",
    "print(\"Median: \", int(result.quantile(0.5)))\n",
    "print(\"Top 10%: \", int(result.quantile(0.9)))"
   ]
  }
 ],
 "metadata": {
  "kernelspec": {
   "display_name": ".venv",
   "language": "python",
   "name": "python3"
  },
  "language_info": {
   "codemirror_mode": {
    "name": "ipython",
    "version": 3
   },
   "file_extension": ".py",
   "mimetype": "text/x-python",
   "name": "python",
   "nbconvert_exporter": "python",
   "pygments_lexer": "ipython3",
   "version": "3.13.1"
  }
 },
 "nbformat": 4,
 "nbformat_minor": 2
}
